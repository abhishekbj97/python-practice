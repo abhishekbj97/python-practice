{
 "cells": [
  {
   "cell_type": "code",
   "execution_count": 1,
   "metadata": {},
   "outputs": [
    {
     "name": "stdout",
     "output_type": "stream",
     "text": [
      "['Math', 'science']\n"
     ]
    }
   ],
   "source": [
    "student = {'name':'abhishek','age':25,'courses':['Math','science']}\n",
    "print(student['courses'])"
   ]
  },
  {
   "cell_type": "code",
   "execution_count": 2,
   "metadata": {},
   "outputs": [
    {
     "name": "stdout",
     "output_type": "stream",
     "text": [
      "abhishek\n"
     ]
    }
   ],
   "source": [
    "student = {1:'abhishek','age':25,'courses':['Math','science']}\n",
    "print(student[1])"
   ]
  },
  {
   "cell_type": "code",
   "execution_count": 4,
   "metadata": {},
   "outputs": [
    {
     "name": "stdout",
     "output_type": "stream",
     "text": [
      "abhishek\n"
     ]
    }
   ],
   "source": [
    "student = {'name':'abhishek','age':25,'courses':['Math','science']}\n",
    "\n",
    "print(student.get('name'))"
   ]
  },
  {
   "cell_type": "code",
   "execution_count": 6,
   "metadata": {},
   "outputs": [
    {
     "name": "stdout",
     "output_type": "stream",
     "text": [
      "None\n"
     ]
    }
   ],
   "source": [
    "print(student.get(1))"
   ]
  },
  {
   "cell_type": "code",
   "execution_count": 7,
   "metadata": {},
   "outputs": [
    {
     "name": "stdout",
     "output_type": "stream",
     "text": [
      "Not Found\n"
     ]
    }
   ],
   "source": [
    "student = {'name':'abhishek','age':25,'courses':['Math','science']}\n",
    "\n",
    "print(student.get('phone','Not Found'))"
   ]
  },
  {
   "cell_type": "code",
   "execution_count": 8,
   "metadata": {},
   "outputs": [
    {
     "name": "stdout",
     "output_type": "stream",
     "text": [
      "{'name': 'john', 'age': 25, 'courses': ['Math', 'science'], 'phone': '5555-7897'}\n"
     ]
    }
   ],
   "source": [
    "student = {'name':'abhishek','age':25,'courses':['Math','science']}\n",
    "\n",
    "student['phone'] = '5555-7897'\n",
    "student['name'] = 'john'\n",
    "print(student)"
   ]
  },
  {
   "cell_type": "code",
   "execution_count": 9,
   "metadata": {},
   "outputs": [
    {
     "name": "stdout",
     "output_type": "stream",
     "text": [
      "{'name': 'John', 'age': 26, 'courses': ['Math', 'science'], 'phone': '555-333689'}\n"
     ]
    }
   ],
   "source": [
    "#update in dictionaries\n",
    "\n",
    "student = {'name':'abhishek','age':25,'courses':['Math','science']}\n",
    "\n",
    "student.update({'name':'John', 'age':26, 'phone':'555-333689'})\n",
    "print(student)"
   ]
  },
  {
   "cell_type": "code",
   "execution_count": 10,
   "metadata": {},
   "outputs": [
    {
     "name": "stdout",
     "output_type": "stream",
     "text": [
      "{'name': 'abhishek', 'courses': ['Math', 'science']}\n"
     ]
    }
   ],
   "source": [
    "#delete del\n",
    "\n",
    "student = {'name':'abhishek','age':25,'courses':['Math','science']}\n",
    "\n",
    "del student['age']\n",
    "print(student)"
   ]
  },
  {
   "cell_type": "code",
   "execution_count": 11,
   "metadata": {},
   "outputs": [
    {
     "name": "stdout",
     "output_type": "stream",
     "text": [
      "{'name': 'abhishek', 'courses': ['Math', 'science']}\n",
      "25\n"
     ]
    }
   ],
   "source": [
    "#pop\n",
    "\n",
    "student = {'name':'abhishek','age':25,'courses':['Math','science']}\n",
    "\n",
    "age = student.pop('age')\n",
    "\n",
    "print(student)\n",
    "print(age)"
   ]
  },
  {
   "cell_type": "code",
   "execution_count": 14,
   "metadata": {},
   "outputs": [
    {
     "name": "stdout",
     "output_type": "stream",
     "text": [
      "dict_items([('name', 'abhishek'), ('age', 25), ('courses', ['Math', 'science'])])\n",
      "dict_keys(['name', 'age', 'courses'])\n",
      "dict_values(['abhishek', 25, ['Math', 'science']])\n"
     ]
    }
   ],
   "source": [
    "#print key in dictionaries\n",
    "student = {'name':'abhishek','age':25,'courses':['Math','science']}\n",
    "print(student.items())\n",
    "print(student.keys())\n",
    "print(student.values())"
   ]
  },
  {
   "cell_type": "code",
   "execution_count": 15,
   "metadata": {},
   "outputs": [
    {
     "name": "stdout",
     "output_type": "stream",
     "text": [
      "('name', 'abhishek')\n",
      "('age', 25)\n",
      "('courses', ['Math', 'science'])\n"
     ]
    }
   ],
   "source": [
    "student = {'name':'abhishek','age':25,'courses':['Math','science']}\n",
    "\n",
    "for i in student.items():\n",
    "    print(i)"
   ]
  },
  {
   "cell_type": "code",
   "execution_count": 16,
   "metadata": {},
   "outputs": [
    {
     "name": "stdout",
     "output_type": "stream",
     "text": [
      "name abhishek\n",
      "age 25\n",
      "courses ['Math', 'science']\n"
     ]
    }
   ],
   "source": [
    "student = {'name':'abhishek','age':25,'courses':['Math','science']}\n",
    "\n",
    "for key,value in student.items():\n",
    "    print(key,value)"
   ]
  },
  {
   "cell_type": "code",
   "execution_count": 17,
   "metadata": {},
   "outputs": [
    {
     "name": "stdout",
     "output_type": "stream",
     "text": [
      "name\n",
      "age\n",
      "courses\n"
     ]
    }
   ],
   "source": [
    "student = {'name':'abhishek','age':25,'courses':['Math','science']}\n",
    "\n",
    "for key in student.keys():\n",
    "    print(key)"
   ]
  },
  {
   "cell_type": "code",
   "execution_count": 19,
   "metadata": {},
   "outputs": [
    {
     "name": "stdout",
     "output_type": "stream",
     "text": [
      "abhishek\n",
      "25\n",
      "['Math', 'science']\n"
     ]
    }
   ],
   "source": [
    "student = {'name':'abhishek','age':25,'courses':['Math','science']}\n",
    "\n",
    "for val in student.values():\n",
    "    print(val)"
   ]
  },
  {
   "cell_type": "code",
   "execution_count": null,
   "metadata": {},
   "outputs": [],
   "source": []
  }
 ],
 "metadata": {
  "kernelspec": {
   "display_name": "Python 3",
   "language": "python",
   "name": "python3"
  },
  "language_info": {
   "codemirror_mode": {
    "name": "ipython",
    "version": 3
   },
   "file_extension": ".py",
   "mimetype": "text/x-python",
   "name": "python",
   "nbconvert_exporter": "python",
   "pygments_lexer": "ipython3",
   "version": "3.8.5"
  }
 },
 "nbformat": 4,
 "nbformat_minor": 4
}
