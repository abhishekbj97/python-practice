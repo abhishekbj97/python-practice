{
 "cells": [
  {
   "cell_type": "code",
   "execution_count": 1,
   "metadata": {},
   "outputs": [
    {
     "name": "stdout",
     "output_type": "stream",
     "text": [
      "['Math', 'physics', 'Chemistry', 'Biology']\n"
     ]
    }
   ],
   "source": [
    "courses = ['Math', 'physics', 'Chemistry', 'Biology']\n",
    "print(courses)"
   ]
  },
  {
   "cell_type": "code",
   "execution_count": 2,
   "metadata": {},
   "outputs": [
    {
     "name": "stdout",
     "output_type": "stream",
     "text": [
      "Math\n"
     ]
    }
   ],
   "source": [
    "print(courses[0])"
   ]
  },
  {
   "cell_type": "code",
   "execution_count": 3,
   "metadata": {},
   "outputs": [
    {
     "name": "stdout",
     "output_type": "stream",
     "text": [
      "Biology\n"
     ]
    }
   ],
   "source": [
    "print(courses[3])"
   ]
  },
  {
   "cell_type": "code",
   "execution_count": 4,
   "metadata": {},
   "outputs": [
    {
     "name": "stdout",
     "output_type": "stream",
     "text": [
      "Biology\n"
     ]
    }
   ],
   "source": [
    "print(courses[-1])"
   ]
  },
  {
   "cell_type": "code",
   "execution_count": 5,
   "metadata": {},
   "outputs": [
    {
     "ename": "IndexError",
     "evalue": "list index out of range",
     "output_type": "error",
     "traceback": [
      "\u001b[1;31m---------------------------------------------------------------------------\u001b[0m",
      "\u001b[1;31mIndexError\u001b[0m                                Traceback (most recent call last)",
      "\u001b[1;32m<ipython-input-5-13e9b2c11c03>\u001b[0m in \u001b[0;36m<module>\u001b[1;34m\u001b[0m\n\u001b[1;32m----> 1\u001b[1;33m \u001b[0mprint\u001b[0m\u001b[1;33m(\u001b[0m\u001b[0mcourses\u001b[0m\u001b[1;33m[\u001b[0m\u001b[1;36m5\u001b[0m\u001b[1;33m]\u001b[0m\u001b[1;33m)\u001b[0m\u001b[1;33m\u001b[0m\u001b[1;33m\u001b[0m\u001b[0m\n\u001b[0m",
      "\u001b[1;31mIndexError\u001b[0m: list index out of range"
     ]
    }
   ],
   "source": [
    "print(courses[5])"
   ]
  },
  {
   "cell_type": "code",
   "execution_count": 6,
   "metadata": {},
   "outputs": [
    {
     "name": "stdout",
     "output_type": "stream",
     "text": [
      "['Math', 'physics']\n"
     ]
    }
   ],
   "source": [
    "print(courses[0:2])"
   ]
  },
  {
   "cell_type": "code",
   "execution_count": 7,
   "metadata": {},
   "outputs": [
    {
     "name": "stdout",
     "output_type": "stream",
     "text": [
      "['Math', 'physics']\n"
     ]
    }
   ],
   "source": [
    "print(courses[:2])"
   ]
  },
  {
   "cell_type": "code",
   "execution_count": 8,
   "metadata": {},
   "outputs": [
    {
     "name": "stdout",
     "output_type": "stream",
     "text": [
      "['Chemistry', 'Biology']\n"
     ]
    }
   ],
   "source": [
    "print(courses[2:])"
   ]
  },
  {
   "cell_type": "code",
   "execution_count": 9,
   "metadata": {},
   "outputs": [
    {
     "name": "stdout",
     "output_type": "stream",
     "text": [
      "[]\n"
     ]
    }
   ],
   "source": [
    "print(courses[3:1])"
   ]
  },
  {
   "cell_type": "code",
   "execution_count": 10,
   "metadata": {},
   "outputs": [
    {
     "name": "stdout",
     "output_type": "stream",
     "text": [
      "['History', 'Maths', 'Physics', 'CS']\n"
     ]
    }
   ],
   "source": [
    "courses = ['History','Maths','Physics','CS']\n",
    "print(courses)"
   ]
  },
  {
   "cell_type": "code",
   "execution_count": 11,
   "metadata": {},
   "outputs": [
    {
     "name": "stdout",
     "output_type": "stream",
     "text": [
      "['History', 'Maths', 'Physics', 'CS', 'Art']\n"
     ]
    }
   ],
   "source": [
    "#Append\n",
    "courses.append('Art')\n",
    "print(courses)"
   ]
  },
  {
   "cell_type": "code",
   "execution_count": 12,
   "metadata": {},
   "outputs": [
    {
     "name": "stdout",
     "output_type": "stream",
     "text": [
      "['Info science', 'History', 'Maths', 'Physics', 'CS', 'Art']\n"
     ]
    }
   ],
   "source": [
    "courses.insert(0,'Info science')\n",
    "print(courses)"
   ]
  },
  {
   "cell_type": "code",
   "execution_count": 13,
   "metadata": {},
   "outputs": [
    {
     "name": "stdout",
     "output_type": "stream",
     "text": [
      "['Art', 'Education']\n"
     ]
    }
   ],
   "source": [
    "course1 = ['History','Maths','Physics','CS']\n",
    "course2 = ['Art', 'Education']\n",
    "course1.insert(0,course2)\n",
    "print(course1[0])"
   ]
  },
  {
   "cell_type": "code",
   "execution_count": 14,
   "metadata": {},
   "outputs": [
    {
     "data": {
      "text/plain": [
       "[['Art', 'Education'], 'History', 'Maths', 'Physics', 'CS']"
      ]
     },
     "execution_count": 14,
     "metadata": {},
     "output_type": "execute_result"
    }
   ],
   "source": [
    "course1"
   ]
  },
  {
   "cell_type": "code",
   "execution_count": 23,
   "metadata": {},
   "outputs": [
    {
     "name": "stdout",
     "output_type": "stream",
     "text": [
      "['History', 'Maths', 'Physics', 'CS', ['Art', 'Education']]\n"
     ]
    }
   ],
   "source": [
    "#append\n",
    "course3 = ['History','Maths','Physics','CS']\n",
    "course4 = ['Art', 'Education']\n",
    "course3.append(course4)\n",
    "print(course3)"
   ]
  },
  {
   "cell_type": "code",
   "execution_count": 24,
   "metadata": {},
   "outputs": [
    {
     "data": {
      "text/plain": [
       "['History', 'Maths', 'Physics', 'CS', ['Art', 'Education']]"
      ]
     },
     "execution_count": 24,
     "metadata": {},
     "output_type": "execute_result"
    }
   ],
   "source": [
    "course3"
   ]
  },
  {
   "cell_type": "code",
   "execution_count": 25,
   "metadata": {},
   "outputs": [
    {
     "name": "stdout",
     "output_type": "stream",
     "text": [
      "['History', 'Maths', 'Physics', 'CS', 'Art', 'Education']\n"
     ]
    }
   ],
   "source": [
    "#extend\n",
    "course3 = ['History','Maths','Physics','CS']\n",
    "course4 = ['Art', 'Education']\n",
    "course3.extend(course4)\n",
    "print(course3)"
   ]
  },
  {
   "cell_type": "code",
   "execution_count": 27,
   "metadata": {},
   "outputs": [
    {
     "name": "stdout",
     "output_type": "stream",
     "text": [
      "CS\n"
     ]
    }
   ],
   "source": [
    "#remove\n",
    "courses5 = ['History','Maths','Physics','CS']\n",
    "poping = courses5.pop()\n",
    "print(poping)"
   ]
  },
  {
   "cell_type": "code",
   "execution_count": 28,
   "metadata": {},
   "outputs": [
    {
     "data": {
      "text/plain": [
       "['History', 'Maths', 'Physics']"
      ]
     },
     "execution_count": 28,
     "metadata": {},
     "output_type": "execute_result"
    }
   ],
   "source": [
    "courses5"
   ]
  },
  {
   "cell_type": "code",
   "execution_count": 29,
   "metadata": {},
   "outputs": [],
   "source": [
    "#reverse"
   ]
  },
  {
   "cell_type": "code",
   "execution_count": 31,
   "metadata": {},
   "outputs": [
    {
     "name": "stdout",
     "output_type": "stream",
     "text": [
      "['CS', 'Physics', 'Maths', 'History']\n"
     ]
    }
   ],
   "source": [
    "courses6 = ['History','Maths','Physics','CS']\n",
    "courses6.reverse()\n",
    "print(courses6)"
   ]
  },
  {
   "cell_type": "code",
   "execution_count": 32,
   "metadata": {},
   "outputs": [],
   "source": [
    "#sort"
   ]
  },
  {
   "cell_type": "code",
   "execution_count": 33,
   "metadata": {},
   "outputs": [
    {
     "name": "stdout",
     "output_type": "stream",
     "text": [
      "['CS', 'History', 'Maths', 'Physics']\n",
      "[1, 2, 3, 4, 5]\n"
     ]
    }
   ],
   "source": [
    "courses6 = ['History','Maths','Physics','CS']\n",
    "num = [1,5,4,3,2]\n",
    "\n",
    "courses6.sort()\n",
    "num.sort()\n",
    "\n",
    "print(courses6)\n",
    "print(num)"
   ]
  },
  {
   "cell_type": "code",
   "execution_count": 36,
   "metadata": {},
   "outputs": [
    {
     "name": "stdout",
     "output_type": "stream",
     "text": [
      "['Physics', 'Maths', 'History', 'CS']\n",
      "[5, 4, 3, 2, 1]\n"
     ]
    }
   ],
   "source": [
    "#sort in reverse=true\n",
    "courses6 = ['History','Maths','Physics','CS']\n",
    "num = [1,5,4,3,2]\n",
    "\n",
    "courses6.sort(reverse=True)\n",
    "num.sort(reverse=True)\n",
    "\n",
    "print(courses6)\n",
    "print(num)"
   ]
  },
  {
   "cell_type": "code",
   "execution_count": 37,
   "metadata": {},
   "outputs": [
    {
     "name": "stdout",
     "output_type": "stream",
     "text": [
      "['History', 'Maths', 'Physics', 'CS']\n"
     ]
    }
   ],
   "source": [
    "#soreted\n",
    "courses6 = ['History','Maths','Physics','CS']\n",
    "\n",
    "sorted_course = sorted(courses6)\n",
    "\n",
    "print(courses6)\n"
   ]
  },
  {
   "cell_type": "code",
   "execution_count": 40,
   "metadata": {},
   "outputs": [],
   "source": [
    "#min\n",
    "#max"
   ]
  },
  {
   "cell_type": "code",
   "execution_count": 39,
   "metadata": {},
   "outputs": [
    {
     "name": "stdout",
     "output_type": "stream",
     "text": [
      "5\n",
      "1\n"
     ]
    }
   ],
   "source": [
    "num = [1,5,4,3,2]\n",
    "\n",
    "print(max(num))\n",
    "print(min(num))"
   ]
  },
  {
   "cell_type": "code",
   "execution_count": 42,
   "metadata": {},
   "outputs": [
    {
     "name": "stdout",
     "output_type": "stream",
     "text": [
      "2\n"
     ]
    }
   ],
   "source": [
    "#index\n",
    "courses6 = ['History','Maths','Physics','CS']\n",
    "\n",
    "print(courses6.index('Physics'))"
   ]
  },
  {
   "cell_type": "code",
   "execution_count": 44,
   "metadata": {},
   "outputs": [
    {
     "name": "stdout",
     "output_type": "stream",
     "text": [
      "True\n",
      "False\n"
     ]
    }
   ],
   "source": [
    "#in\n",
    "\n",
    "courses6 = ['History','Maths','Physics','CS']\n",
    "\n",
    "print('Physics' in courses6)\n",
    "print('Bio' in courses6)"
   ]
  },
  {
   "cell_type": "code",
   "execution_count": 47,
   "metadata": {},
   "outputs": [
    {
     "name": "stdout",
     "output_type": "stream",
     "text": [
      "History\n",
      "Maths\n",
      "Physics\n",
      "CS\n"
     ]
    }
   ],
   "source": [
    "courses6 = ['History','Maths','Physics','CS']\n",
    "\n",
    "for i in courses6:\n",
    "    print(i)"
   ]
  },
  {
   "cell_type": "code",
   "execution_count": 49,
   "metadata": {},
   "outputs": [
    {
     "name": "stdout",
     "output_type": "stream",
     "text": [
      "1 History\n",
      "2 Maths\n",
      "3 Physics\n",
      "4 CS\n"
     ]
    }
   ],
   "source": [
    "#enumerate\n",
    "courses6 = ['History','Maths','Physics','CS']\n",
    "\n",
    "for index, i in enumerate(courses6, start=1):\n",
    "    print(index,i)"
   ]
  },
  {
   "cell_type": "code",
   "execution_count": 51,
   "metadata": {},
   "outputs": [
    {
     "name": "stdout",
     "output_type": "stream",
     "text": [
      "History - Maths - Physics - CS\n"
     ]
    }
   ],
   "source": [
    "#join\n",
    "\n",
    "courses6 = ['History','Maths','Physics','CS']\n",
    "course_str = ' - '.join(courses6)\n",
    "print(course_str)"
   ]
  },
  {
   "cell_type": "code",
   "execution_count": 52,
   "metadata": {},
   "outputs": [
    {
     "name": "stdout",
     "output_type": "stream",
     "text": [
      "['History ', ' Maths ', ' Physics ', ' CS']\n"
     ]
    }
   ],
   "source": [
    "#join, split\n",
    "\n",
    "courses6 = ['History','Maths','Physics','CS']\n",
    "course_str = ' - '.join(courses6)\n",
    "new_list = course_str.split('-')\n",
    "print(new_list)"
   ]
  },
  {
   "cell_type": "markdown",
   "metadata": {},
   "source": [
    "## Tuples & Sets\n",
    "\n",
    "sets are mutable \n",
    "\n",
    "tuples are immutable"
   ]
  },
  {
   "cell_type": "code",
   "execution_count": 53,
   "metadata": {},
   "outputs": [
    {
     "name": "stdout",
     "output_type": "stream",
     "text": [
      "['History', 'Maths', 'Physics', 'CS']\n",
      "['History', 'Maths', 'Physics', 'CS']\n"
     ]
    }
   ],
   "source": [
    "#mutable\n",
    "list_1 = ['History','Maths','Physics','CS']\n",
    "list_2 = list_1\n",
    "\n",
    "print(list_1)\n",
    "print(list_2)"
   ]
  },
  {
   "cell_type": "code",
   "execution_count": 55,
   "metadata": {},
   "outputs": [
    {
     "name": "stdout",
     "output_type": "stream",
     "text": [
      "['History', 'Maths', 'Physics', 'CS']\n",
      "['History', 'Maths', 'Physics', 'CS']\n",
      "['Art', 'Maths', 'Physics', 'CS']\n",
      "['Art', 'Maths', 'Physics', 'CS']\n"
     ]
    }
   ],
   "source": [
    "list_1 = ['History','Maths','Physics','CS']\n",
    "list_2 = list_1\n",
    "\n",
    "print(list_1)\n",
    "print(list_2)\n",
    "\n",
    "list_1[0] = 'Art'\n",
    "\n",
    "print(list_1)\n",
    "print(list_2)"
   ]
  },
  {
   "cell_type": "code",
   "execution_count": 57,
   "metadata": {},
   "outputs": [
    {
     "name": "stdout",
     "output_type": "stream",
     "text": [
      "('History', 'Maths', 'Physics', 'CS')\n",
      "('History', 'Maths', 'Physics', 'CS')\n"
     ]
    },
    {
     "ename": "TypeError",
     "evalue": "'tuple' object does not support item assignment",
     "output_type": "error",
     "traceback": [
      "\u001b[1;31m---------------------------------------------------------------------------\u001b[0m",
      "\u001b[1;31mTypeError\u001b[0m                                 Traceback (most recent call last)",
      "\u001b[1;32m<ipython-input-57-69335012cd54>\u001b[0m in \u001b[0;36m<module>\u001b[1;34m\u001b[0m\n\u001b[0;32m      8\u001b[0m \u001b[0mprint\u001b[0m\u001b[1;33m(\u001b[0m\u001b[0mtuple_2\u001b[0m\u001b[1;33m)\u001b[0m\u001b[1;33m\u001b[0m\u001b[1;33m\u001b[0m\u001b[0m\n\u001b[0;32m      9\u001b[0m \u001b[1;33m\u001b[0m\u001b[0m\n\u001b[1;32m---> 10\u001b[1;33m \u001b[0mtuple_1\u001b[0m\u001b[1;33m[\u001b[0m\u001b[1;36m0\u001b[0m\u001b[1;33m]\u001b[0m \u001b[1;33m=\u001b[0m \u001b[1;34m'Art'\u001b[0m\u001b[1;33m\u001b[0m\u001b[1;33m\u001b[0m\u001b[0m\n\u001b[0m\u001b[0;32m     11\u001b[0m \u001b[1;33m\u001b[0m\u001b[0m\n\u001b[0;32m     12\u001b[0m \u001b[0mprint\u001b[0m\u001b[1;33m(\u001b[0m\u001b[0mtuple_1\u001b[0m\u001b[1;33m)\u001b[0m\u001b[1;33m\u001b[0m\u001b[1;33m\u001b[0m\u001b[0m\n",
      "\u001b[1;31mTypeError\u001b[0m: 'tuple' object does not support item assignment"
     ]
    }
   ],
   "source": [
    "#immutable\n",
    "#instead of square barckets we used half brackets here in tuples\n",
    "    \n",
    "tuple_1 = ('History','Maths','Physics','CS')\n",
    "tuple_2 = tuple_1\n",
    "\n",
    "print(tuple_1)\n",
    "print(tuple_2)\n",
    "\n",
    "tuple_1[0] = 'Art'\n",
    "\n",
    "print(tuple_1)\n",
    "print(tuple_2)    "
   ]
  },
  {
   "cell_type": "markdown",
   "metadata": {},
   "source": [
    "## sets\n",
    "\n",
    "sets are unordered and, no duplicates"
   ]
  },
  {
   "cell_type": "code",
   "execution_count": 58,
   "metadata": {},
   "outputs": [
    {
     "name": "stdout",
     "output_type": "stream",
     "text": [
      "{'Maths', 'Physics', 'CS', 'History'}\n"
     ]
    }
   ],
   "source": [
    "set_courses = {'History','Maths','Physics','CS'}\n",
    "print(set_courses)"
   ]
  },
  {
   "cell_type": "code",
   "execution_count": 60,
   "metadata": {},
   "outputs": [
    {
     "name": "stdout",
     "output_type": "stream",
     "text": [
      "{'Maths', 'Physics', 'CS', 'History'}\n"
     ]
    }
   ],
   "source": [
    "#adding maths 2wice not added becaiuse of set property\n",
    "set_courses = {'History','Maths','Physics','CS','Maths'}\n",
    "print(set_courses)"
   ]
  },
  {
   "cell_type": "code",
   "execution_count": 62,
   "metadata": {},
   "outputs": [
    {
     "name": "stdout",
     "output_type": "stream",
     "text": [
      "{'Maths', 'CS', 'History'}\n"
     ]
    }
   ],
   "source": [
    "#intersection\n",
    "set_courses1 = {'History','Maths','Physics','CS'}\n",
    "set_courses2 = {'History','Maths','Art','CS'}\n",
    "print(set_courses.intersection(set_courses2))"
   ]
  },
  {
   "cell_type": "code",
   "execution_count": 63,
   "metadata": {},
   "outputs": [
    {
     "name": "stdout",
     "output_type": "stream",
     "text": [
      "{'Physics'}\n"
     ]
    }
   ],
   "source": [
    "#difference\n",
    "set_courses1 = {'History','Maths','Physics','CS'}\n",
    "set_courses2 = {'History','Maths','Art','CS'}\n",
    "print(set_courses.difference(set_courses2))"
   ]
  },
  {
   "cell_type": "code",
   "execution_count": 64,
   "metadata": {},
   "outputs": [
    {
     "name": "stdout",
     "output_type": "stream",
     "text": [
      "{'Maths', 'Art', 'Physics', 'CS', 'History'}\n"
     ]
    }
   ],
   "source": [
    "#union\n",
    "set_courses1 = {'History','Maths','Physics','CS'}\n",
    "set_courses2 = {'History','Maths','Art','CS'}\n",
    "print(set_courses.union(set_courses2))"
   ]
  },
  {
   "cell_type": "code",
   "execution_count": 66,
   "metadata": {},
   "outputs": [],
   "source": [
    "empty_list = []\n",
    "empty_list = list()\n",
    "\n",
    "empty_tuple = ()\n",
    "empty_tuple = tuple()\n",
    "\n",
    "empty_set = {}     #this is not right choice\n",
    "empty_set = set()  #this is correct"
   ]
  },
  {
   "cell_type": "code",
   "execution_count": null,
   "metadata": {},
   "outputs": [],
   "source": []
  }
 ],
 "metadata": {
  "kernelspec": {
   "display_name": "Python 3",
   "language": "python",
   "name": "python3"
  },
  "language_info": {
   "codemirror_mode": {
    "name": "ipython",
    "version": 3
   },
   "file_extension": ".py",
   "mimetype": "text/x-python",
   "name": "python",
   "nbconvert_exporter": "python",
   "pygments_lexer": "ipython3",
   "version": "3.8.5"
  }
 },
 "nbformat": 4,
 "nbformat_minor": 4
}
