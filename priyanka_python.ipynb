{
 "cells": [
  {
   "cell_type": "markdown",
   "id": "74ce71e0",
   "metadata": {},
   "source": [
    "# \n",
    "<b>Insert Your Name: </b>\n",
    "\n",
    "<b>Matrico ID : </b>"
   ]
  },
  {
   "cell_type": "markdown",
   "id": "1ca1dff4",
   "metadata": {},
   "source": [
    "\n",
    "# Solution sketech\n",
    "\n",
    "\n",
    "<b>write question here -----------------------------------------------</b>\n",
    "\n",
    "\n",
    "<b>step 1:---------------------------- </b>\n",
    "\n",
    "\n",
    "<b>Algorithm Design suedo code</b> \n",
    "\n",
    "<b>Matrix size Row x Col </b> = 10000*10000 = 100,000\n",
    "\n",
    "\n",
    "\n",
    "<b> step 2:--------------------------- </b>\n",
    "\n",
    "<b>condition </b>. All elements are zero , except 50 random elements of exception\n",
    "\n",
    "\n",
    "<b>computing steps</b> :\n",
    "\n",
    "            create a transpose matrix of from normal matrix\n",
    "          \n",
    "            transpose matrix \n",
    "          \n",
    "            res = sum + transpose matrix\n",
    " \n",
    "<b> step 3:--------------------------- </b> \n",
    "\n",
    "<b>result</b> : \n",
    "\n",
    "             case 1: symmetrical is proved       "
   ]
  },
  {
   "cell_type": "markdown",
   "id": "25494fe0",
   "metadata": {},
   "source": [
    "### 1. Importing libraries"
   ]
  },
  {
   "cell_type": "code",
   "execution_count": 9,
   "id": "688b7016",
   "metadata": {},
   "outputs": [],
   "source": [
    "import numpy as np"
   ]
  },
  {
   "cell_type": "markdown",
   "id": "6e1176c8",
   "metadata": {},
   "source": [
    "### 2. Declaration of variables and matrix size"
   ]
  },
  {
   "cell_type": "markdown",
   "id": "e1b2411d",
   "metadata": {},
   "source": [
    "#### definition statement"
   ]
  },
  {
   "cell_type": "code",
   "execution_count": 14,
   "id": "6b668f31",
   "metadata": {},
   "outputs": [],
   "source": [
    "# size of the matrix initialization\n",
    "size = 10000\n",
    "\n",
    "# given matrix initilization with all elements equal to zero\n",
    "matrix = np.zeros((size, size), dtype=int)"
   ]
  },
  {
   "cell_type": "markdown",
   "id": "3d121f70",
   "metadata": {},
   "source": [
    "### 3. Function Defination logic "
   ]
  },
  {
   "cell_type": "code",
   "execution_count": 15,
   "id": "28a4aa63",
   "metadata": {},
   "outputs": [],
   "source": [
    "#function decalarion  \n",
    "\n",
    "# # according to the question we have to set non zero elemets for the problem except 50 elemets in matrix\n",
    "# # that which is selcted randomly by 50 elements in matrix from the original \n",
    "\n",
    "def main():\n",
    "    number_of_non_zero = 50\n",
    "    non_zero_indices = np.random.choice(size, size=(number_of_non_zero, 2))\n",
    "    non_zero_values = np.random.randint(1, 100, size=number_of_non_zero)\n",
    "    for i, j, value in zip(non_zero_indices[:, 0], non_zero_indices[:, 1], non_zero_values):\n",
    "        matrix[i, j] = value\n",
    "\n",
    "    #  transposing of the original matrix\n",
    "    matrix_transpose = np.transpose(matrix)\n",
    "\n",
    "    # Summing the-----> matrix + transpose\n",
    "    matrix_sum = matrix + matrix_transpose\n",
    "    \n",
    "   #main function condition \n",
    "    if np.allclose(matrix_sum, matrix_sum.T):\n",
    "        print(\"The matrix is symmetrical.\")\n",
    "    else:\n",
    "        print(\"The matrix is non symmetrical.\")\n",
    "    "
   ]
  },
  {
   "cell_type": "markdown",
   "id": "521361ed",
   "metadata": {},
   "source": [
    "# 4. main Function\n"
   ]
  },
  {
   "cell_type": "markdown",
   "id": "68af5a2e",
   "metadata": {},
   "source": [
    "## Case 1: result is symmetric matrix"
   ]
  },
  {
   "cell_type": "code",
   "execution_count": 16,
   "id": "44e7550b",
   "metadata": {},
   "outputs": [
    {
     "name": "stdout",
     "output_type": "stream",
     "text": [
      "The matrix is symmetrical.\n"
     ]
    }
   ],
   "source": [
    "#main function \n",
    "if __name__ == \"__main__\":\n",
    "    main()"
   ]
  },
  {
   "cell_type": "code",
   "execution_count": null,
   "id": "dcef088a",
   "metadata": {},
   "outputs": [],
   "source": []
  },
  {
   "cell_type": "code",
   "execution_count": null,
   "id": "dc5759b3",
   "metadata": {},
   "outputs": [],
   "source": []
  }
 ],
 "metadata": {
  "kernelspec": {
   "display_name": "Python 3 (ipykernel)",
   "language": "python",
   "name": "python3"
  },
  "language_info": {
   "codemirror_mode": {
    "name": "ipython",
    "version": 3
   },
   "file_extension": ".py",
   "mimetype": "text/x-python",
   "name": "python",
   "nbconvert_exporter": "python",
   "pygments_lexer": "ipython3",
   "version": "3.9.13"
  }
 },
 "nbformat": 4,
 "nbformat_minor": 5
}
